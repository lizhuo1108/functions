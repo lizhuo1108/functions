{
 "cells": [
  {
   "cell_type": "code",
   "execution_count": 2,
   "id": "6a2e3902",
   "metadata": {},
   "outputs": [],
   "source": [
    "import xarray as xr\n",
    "import pandas as pd\n",
    "from scipy import stats\n",
    "import numpy as np\n",
    "from cartopy import crs as ccrs, feature as cfeature\n",
    "from cartopy.mpl.ticker import LongitudeFormatter, LatitudeFormatter\n",
    "import matplotlib.pyplot as plt\n",
    "from metpy.units import units\n",
    "import glob,os\n",
    "import seaborn as sns\n",
    "import matplotlib.colors as colors\n",
    "import matplotlib.patches as mpatches"
   ]
  },
  {
   "cell_type": "code",
   "execution_count": 1,
   "id": "4a78b65a",
   "metadata": {},
   "outputs": [],
   "source": [
    "def degC_to_K(ds):\n",
    "    tmpC=ds*units('degC')\n",
    "    tmpK=tmpC.metpy.convert_units('K')\n",
    "    tmp_K=xr.DataArray(tmpK)\n",
    "    tmp_K.attrs[\"units\"] = \"K\"\n",
    "    return tmp_K"
   ]
  },
  {
   "cell_type": "code",
   "execution_count": null,
   "id": "facdd1d6",
   "metadata": {},
   "outputs": [],
   "source": []
  }
 ],
 "metadata": {
  "kernelspec": {
   "display_name": "Python 3 August 2021 Environment",
   "language": "python",
   "name": "aug21"
  },
  "language_info": {
   "codemirror_mode": {
    "name": "ipython",
    "version": 3
   },
   "file_extension": ".py",
   "mimetype": "text/x-python",
   "name": "python",
   "nbconvert_exporter": "python",
   "pygments_lexer": "ipython3",
   "version": "3.8.10"
  }
 },
 "nbformat": 4,
 "nbformat_minor": 5
}
