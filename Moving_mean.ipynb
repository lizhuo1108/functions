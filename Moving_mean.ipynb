{
 "cells": [
  {
   "cell_type": "markdown",
   "id": "b0e3307c",
   "metadata": {},
   "source": [
    "## Window size must be an odd number"
   ]
  },
  {
   "cell_type": "code",
   "execution_count": 33,
   "id": "0713b760",
   "metadata": {},
   "outputs": [],
   "source": [
    "def moving_mean(da,window_size):\n",
    "# window_size=5\n",
    "    length=len(da)\n",
    "    start_index=(window_size-1)/2\n",
    "    end_index  =length-(window_size+1)/2\n",
    "    half_window=int((window_size-1)/2)\n",
    "    moving_average=[]\n",
    "    for k in range(length):\n",
    "        if k < start_index or k>end_index:\n",
    "            result=np.nan\n",
    "        else:\n",
    "            result=da[k-half_window:k+half_window+1].mean()\n",
    "        moving_average.append(result)\n",
    "    return moving_average"
   ]
  },
  {
   "cell_type": "code",
   "execution_count": null,
   "id": "be4321f0",
   "metadata": {},
   "outputs": [],
   "source": []
  }
 ],
 "metadata": {
  "kernelspec": {
   "display_name": "Python 3 August 2021 Environment",
   "language": "python",
   "name": "aug21"
  },
  "language_info": {
   "codemirror_mode": {
    "name": "ipython",
    "version": 3
   },
   "file_extension": ".py",
   "mimetype": "text/x-python",
   "name": "python",
   "nbconvert_exporter": "python",
   "pygments_lexer": "ipython3",
   "version": "3.8.10"
  }
 },
 "nbformat": 4,
 "nbformat_minor": 5
}
