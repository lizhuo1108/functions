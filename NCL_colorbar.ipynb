{
 "cells": [
  {
   "cell_type": "code",
   "execution_count": 71,
   "id": "06a1c374",
   "metadata": {},
   "outputs": [],
   "source": [
    "import xarray as xr\n",
    "import pandas as pd\n",
    "from scipy import stats\n",
    "import numpy as np\n",
    "from cartopy import crs as ccrs, feature as cfeature\n",
    "from cartopy.mpl.ticker import LongitudeFormatter, LatitudeFormatter\n",
    "import matplotlib.pyplot as plt\n",
    "from metpy.units import units\n",
    "import matplotlib.patches as mpatches\n",
    "import glob,os\n",
    "import metpy.calc as mpcalc\n",
    "from matplotlib.colors import ListedColormap"
   ]
  },
  {
   "cell_type": "code",
   "execution_count": 73,
   "id": "3838fa3b",
   "metadata": {},
   "outputs": [],
   "source": [
    "def colorbar(name,start_index=None,end_index=None):\n",
    "    if start_index is None:\n",
    "        start_index=2\n",
    "\n",
    "    if name=='ncl_default':\n",
    "        rgb = pd.read_csv('/home11/grad/2021/lz352179/ncl_default.rgb',sep='\\s+',skiprows=3,names=['r','g','b'])\n",
    "        rgb_list=rgb.values.tolist()\n",
    "        if end_index is None:\n",
    "            colormap = ListedColormap(rgb_list[start_index-2::])\n",
    "        else:\n",
    "            colormap = ListedColormap(rgb_list[start_index-2:end_index-2])\n",
    "    elif name=='BlueDarkRed18':\n",
    "        rgb = pd.read_csv('/home11/grad/2021/lz352179/BlueDarkRed18.rgb',sep='\\s+',skiprows=5,names=['r','g','b'])\n",
    "        rgb_list=rgb.values.tolist()\n",
    "        rgb=[]\n",
    "        for li in rgb_list:\n",
    "            res=[]\n",
    "            for ele in li:\n",
    "                res.append(ele/255)\n",
    "            rgb.append(res)\n",
    "        if end_index is None:\n",
    "            colormap = ListedColormap(rgb[start_index-2::])\n",
    "        else:\n",
    "            colormap = ListedColormap(rgb[start_index-2:end_index-2])\n",
    "    elif name=='BlueRed':\n",
    "        rgb = pd.read_csv('/home11/grad/2021/lz352179/BlueRed.rgb',sep='\\s+',skiprows=5,names=['r','g','b'])\n",
    "        rgb_list=rgb.values.tolist()\n",
    "        rgb=[]\n",
    "        for li in rgb_list:\n",
    "            res=[]\n",
    "            for ele in li:\n",
    "                res.append(ele/255)\n",
    "            rgb.append(res)\n",
    "        if end_index is None:\n",
    "            colormap = ListedColormap(rgb[start_index-2::])\n",
    "        else:\n",
    "            colormap = ListedColormap(rgb[start_index-2:end_index-2])\n",
    "    return colormap"
   ]
  },
  {
   "cell_type": "code",
   "execution_count": null,
   "id": "26d24551",
   "metadata": {},
   "outputs": [],
   "source": [
    "rgb = pd.read_csv('/home11/grad/2021/lz352179/BlueRed.rgb',sep='\\s+',skiprows=5,names=['r','g','b'])\n",
    "rgb_list=rgb.values.tolist()"
   ]
  }
 ],
 "metadata": {
  "kernelspec": {
   "display_name": "Python 3 August 2021 Environment",
   "language": "python",
   "name": "aug21"
  },
  "language_info": {
   "codemirror_mode": {
    "name": "ipython",
    "version": 3
   },
   "file_extension": ".py",
   "mimetype": "text/x-python",
   "name": "python",
   "nbconvert_exporter": "python",
   "pygments_lexer": "ipython3",
   "version": "3.8.10"
  }
 },
 "nbformat": 4,
 "nbformat_minor": 5
}
