{
 "cells": [
  {
   "cell_type": "code",
   "execution_count": 4,
   "id": "babaf690",
   "metadata": {},
   "outputs": [],
   "source": [
    "def pdf(data,bins_number):\n",
    "    minimum=data.min()\n",
    "    maximum=data.max()\n",
    "    diffs=(maximum-minimum)/bins_number\n",
    "    bins=np.arange(minimum-10*diffs,maximum+10*diffs,diffs)\n",
    "    hist, bin_edges=np.histogram(data,bins=bins)\n",
    "    x=bin_edges[:-1]+diffs/2\n",
    "    pdf=hist/hist.sum()\n",
    "    cdf=np.cumsum(pdf)\n",
    "    return x,pdf,cdf"
   ]
  },
  {
   "cell_type": "code",
   "execution_count": null,
   "id": "13992fcb",
   "metadata": {},
   "outputs": [],
   "source": []
  }
 ],
 "metadata": {
  "kernelspec": {
   "display_name": "Python 3 August 2021 Environment",
   "language": "python",
   "name": "aug21"
  },
  "language_info": {
   "codemirror_mode": {
    "name": "ipython",
    "version": 3
   },
   "file_extension": ".py",
   "mimetype": "text/x-python",
   "name": "python",
   "nbconvert_exporter": "python",
   "pygments_lexer": "ipython3",
   "version": "3.8.10"
  }
 },
 "nbformat": 4,
 "nbformat_minor": 5
}
