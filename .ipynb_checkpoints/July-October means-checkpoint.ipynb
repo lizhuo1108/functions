{
 "cells": [
  {
   "cell_type": "code",
   "execution_count": null,
   "id": "956d8bbd",
   "metadata": {},
   "outputs": [],
   "source": [
    "t2m=dsERA5_T2m.t2m.sel(time=slice('1981-01-01','2020-12-01'))\n",
    "ds_year=t2m.groupby(\"time.year\")\n",
    "years = list(ds_year.groups)\n",
    "first_year=min(years)\n",
    "last_year =max(years)\n",
    "## Calculate the JASO means for the first year\n",
    "#Attention here! You need to add a space between year and month\n",
    "ds_temp1=ds_year[first_year].sel(time=slice(str(first_year)+' 07-01',str(first_year)+' 10-01')).mean(dim='time')\n",
    "for i in range(first_year+1,last_year+1):\n",
    "    ds_temp=ds_year[i].sel(time=slice(str(i)+' 07-01',str(i)+' 10-01')).mean(dim='time')\n",
    "    if i==first_year+1:\n",
    "        ds_temp1=xr.concat([ds_temp1,ds_temp],\"year\")\n",
    "    else:\n",
    "        ds_temp1=xr.concat([ds_temp1,ds_temp],dim=\"year\")\n",
    "# Add a coordinate to the new dataset        \n",
    "ds_temp1.coords[\"year\"] = np.arange(first_year,last_year+1,1)"
   ]
  }
 ],
 "metadata": {
  "kernelspec": {
   "display_name": "Python 3 August 2021 Environment",
   "language": "python",
   "name": "aug21"
  },
  "language_info": {
   "codemirror_mode": {
    "name": "ipython",
    "version": 3
   },
   "file_extension": ".py",
   "mimetype": "text/x-python",
   "name": "python",
   "nbconvert_exporter": "python",
   "pygments_lexer": "ipython3",
   "version": "3.8.10"
  }
 },
 "nbformat": 4,
 "nbformat_minor": 5
}
