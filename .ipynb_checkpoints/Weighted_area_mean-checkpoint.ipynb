{
 "cells": [
  {
   "cell_type": "code",
   "execution_count": 10,
   "id": "d2ce2d7f",
   "metadata": {},
   "outputs": [],
   "source": [
    "def weighted_mean(ds):\n",
    "    weights = np.cos(np.deg2rad(ds.latitude))\n",
    "    weights.name = \"weights\"\n",
    "    air_weighted = ds.weighted(weights)\n",
    "    weighted_mean = air_weighted.mean((\"longitude\", \"latitude\"))\n",
    "    return weighted_mean"
   ]
  }
 ],
 "metadata": {
  "kernelspec": {
   "display_name": "Python 3 August 2021 Environment",
   "language": "python",
   "name": "aug21"
  },
  "language_info": {
   "codemirror_mode": {
    "name": "ipython",
    "version": 3
   },
   "file_extension": ".py",
   "mimetype": "text/x-python",
   "name": "python",
   "nbconvert_exporter": "python",
   "pygments_lexer": "ipython3",
   "version": "3.8.10"
  }
 },
 "nbformat": 4,
 "nbformat_minor": 5
}
