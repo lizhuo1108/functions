{
 "cells": [
  {
   "cell_type": "markdown",
   "id": "fb3d9e91",
   "metadata": {},
   "source": [
    "## For a single year"
   ]
  },
  {
   "cell_type": "code",
   "execution_count": null,
   "id": "31fdae96",
   "metadata": {},
   "outputs": [],
   "source": [
    "def season_mean(ds, calendar=\"standard\"):\n",
    "    # Make a DataArray with the number of days in each month, size = len(time)\n",
    "    month_length = ds.time.dt.days_in_month\n",
    "\n",
    "    # Calculate the weights by grouping by 'time.season'\n",
    "    weights = (\n",
    "        month_length.groupby(\"time.season\") / month_length.groupby(\"time.season\").sum()\n",
    "    )\n",
    "    # Calculate the weighted average\n",
    "#     ds_weighted=(ds * weights).groupby(\"time.season\").sum(dim=\"time\")\n",
    "    ## If you want to retain the nan values, please add \"skipna=False\"\n",
    "    ds_weighted=(ds * weights).groupby(\"time.season\").sum(dim=\"time\",skipna=False)\n",
    "    return ds_weighted"
   ]
  },
  {
   "cell_type": "markdown",
   "id": "5a4080fd",
   "metadata": {},
   "source": [
    "## For multiple years"
   ]
  },
  {
   "cell_type": "code",
   "execution_count": null,
   "id": "3b1c54da",
   "metadata": {},
   "outputs": [],
   "source": [
    "def season_mean_multiple(ds, calendar=\"standard\"):\n",
    "    # Get all the years by groupby\n",
    "    ds_year=ds.groupby(\"time.year\")\n",
    "    # Get the first and last year\n",
    "    years = list(ds_year.groups)\n",
    "    first_year=min(years)\n",
    "    last_year =max(years)\n",
    "#     # Do the seasonal means for the first year\n",
    "#     ds_temp1=season_mean(ds_year[first_year])\n",
    "    # Do the seasonal means for the rest years and combine them into one dataset\n",
    "    for i in range(first_year,last_year+1):\n",
    "        temp=season_mean(ds_year[i])\n",
    "        if i==first_year:\n",
    "            ds_temp=temp\n",
    "        else:\n",
    "            ds_temp=xr.concat([ds_temp,temp],dim=\"year\")\n",
    "    # Add a coordinate to the new dataset        \n",
    "    ds_temp.coords[\"year\"] = np.arange(first_year,last_year+1,1)\n",
    "    return ds_temp"
   ]
  }
 ],
 "metadata": {
  "kernelspec": {
   "display_name": "Python 3 August 2021 Environment",
   "language": "python",
   "name": "aug21"
  },
  "language_info": {
   "codemirror_mode": {
    "name": "ipython",
    "version": 3
   },
   "file_extension": ".py",
   "mimetype": "text/x-python",
   "name": "python",
   "nbconvert_exporter": "python",
   "pygments_lexer": "ipython3",
   "version": "3.8.10"
  }
 },
 "nbformat": 4,
 "nbformat_minor": 5
}
