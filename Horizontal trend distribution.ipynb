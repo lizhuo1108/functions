{
 "cells": [
  {
   "cell_type": "code",
   "execution_count": null,
   "id": "260d61e5",
   "metadata": {},
   "outputs": [],
   "source": [
    "def trend_ps(ds):\n",
    "    longitude=ds.longitude\n",
    "    latitude =ds.latitude\n",
    "    # Create two new dataarrays \n",
    "    data=np.zeros(shape=(len(latitude),len(longitude)))\n",
    "    trend = xr.DataArray(data, coords=[latitude, longitude], dims=[\"latitude\", \"longitude\"])\n",
    "    ps    = trend.copy()\n",
    "    # Calculate the trend and pvalue\n",
    "    x     = ds.year\n",
    "    for i in range(0,len(longitude)):\n",
    "        for j in range(0,len(latitude)):\n",
    "            y         = ds[:,j,i]\n",
    "            res       = stats.linregress(x, y)\n",
    "            trend[j,i]=res.slope\n",
    "            ps[j,i]   =res.pvalue\n",
    "    return trend,ps"
   ]
  }
 ],
 "metadata": {
  "kernelspec": {
   "display_name": "Python 3 August 2021 Environment",
   "language": "python",
   "name": "aug21"
  },
  "language_info": {
   "codemirror_mode": {
    "name": "ipython",
    "version": 3
   },
   "file_extension": ".py",
   "mimetype": "text/x-python",
   "name": "python",
   "nbconvert_exporter": "python",
   "pygments_lexer": "ipython3",
   "version": "3.8.10"
  }
 },
 "nbformat": 4,
 "nbformat_minor": 5
}
