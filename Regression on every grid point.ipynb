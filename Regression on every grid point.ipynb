{
 "cells": [
  {
   "cell_type": "code",
   "execution_count": 1,
   "id": "973bfcc8",
   "metadata": {},
   "outputs": [],
   "source": [
    "#Define the regression variable\n",
    "def regression(ds,x):\n",
    "    copy=ds.mean(dim='year').copy()\n",
    "    regress=copy.rename(\"regression\")\n",
    "    copy=regress.copy()\n",
    "    ps    =copy.rename(\"pvalue\")\n",
    "    # Get the dimensions\n",
    "    latitude=ds.latitude.to_numpy()\n",
    "    longitude=ds.longitude.to_numpy()\n",
    "    lat_dim=latitude.size\n",
    "    lon_dim=longitude.size\n",
    "    # Calculate the regression coefficients\n",
    "    for i in range(0,lon_dim):\n",
    "        for j in range(0,lat_dim):\n",
    "            y=ds[:,j,i]\n",
    "            res = stats.linregress(x, y)\n",
    "            regress[j,i]=res.slope\n",
    "            ps[j,i]=res.pvalue\n",
    "    #         t_f[:,j,i]=res.slope*x\n",
    "    return regress,ps"
   ]
  }
 ],
 "metadata": {
  "kernelspec": {
   "display_name": "Python 3 August 2021 Environment",
   "language": "python",
   "name": "aug21"
  },
  "language_info": {
   "codemirror_mode": {
    "name": "ipython",
    "version": 3
   },
   "file_extension": ".py",
   "mimetype": "text/x-python",
   "name": "python",
   "nbconvert_exporter": "python",
   "pygments_lexer": "ipython3",
   "version": "3.8.10"
  }
 },
 "nbformat": 4,
 "nbformat_minor": 5
}
