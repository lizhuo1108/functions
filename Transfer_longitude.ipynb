{
 "cells": [
  {
   "cell_type": "code",
   "execution_count": 1,
   "id": "18c8cc37",
   "metadata": {},
   "outputs": [],
   "source": [
    "def lon_transfer(ds,k):\n",
    "    ds_new=ds.copy()\n",
    "    lon_temp=np.where(ds.longitude <= 180.0, ds.longitude, ds.longitude-360)\n",
    "    lon_temp.sort()\n",
    "    del ds_new[\"longitude\"]\n",
    "    ds_new.coords[\"longitude\"] = lon_temp\n",
    "    del ds[\"longitude\"]\n",
    "    if k==3:\n",
    "        ds_new[:,:,0:178+1]=ds[:,:,181:359+1]\n",
    "        ds_new[:,:,179:359+1]=ds[:,:,0:180+1]\n",
    "    elif k==4:\n",
    "        ds_new[:,:,:,0:178+1]=ds[:,:,:,181:359+1]\n",
    "        ds_new[:,:,:,179:359+1]=ds[:,:,:,0:180+1]\n",
    "    elif k==2:\n",
    "        ds_new[:,0:178+1]=ds[:,181:359+1]\n",
    "        ds_new[:,179:359+1]=ds[:,0:180+1]\n",
    "    return ds_new"
   ]
  },
  {
   "cell_type": "code",
   "execution_count": null,
   "id": "ef438973",
   "metadata": {},
   "outputs": [],
   "source": []
  }
 ],
 "metadata": {
  "kernelspec": {
   "display_name": "Python 3 August 2021 Environment",
   "language": "python",
   "name": "aug21"
  },
  "language_info": {
   "codemirror_mode": {
    "name": "ipython",
    "version": 3
   },
   "file_extension": ".py",
   "mimetype": "text/x-python",
   "name": "python",
   "nbconvert_exporter": "python",
   "pygments_lexer": "ipython3",
   "version": "3.8.10"
  }
 },
 "nbformat": 4,
 "nbformat_minor": 5
}
