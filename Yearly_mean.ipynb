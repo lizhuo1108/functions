{
 "cells": [
  {
   "cell_type": "code",
   "execution_count": 4,
   "id": "da88133f",
   "metadata": {},
   "outputs": [],
   "source": [
    "# First,calculate the weights for each month in a particular year\n",
    "def weighted_monthly_mean(ds):\n",
    "    month_length = ds.time.dt.days_in_month\n",
    "    weights = month_length/month_length.sum()\n",
    "    ds_weighted = ds.weighted(weights)\n",
    "    result=ds_weighted.mean(dim='time')\n",
    "    return result\n",
    "\n",
    "def yearly_mean(ds):\n",
    "    ds_year=ds.groupby(\"time.year\")\n",
    "    years = list(ds_year.groups)\n",
    "    first_year=min(years)\n",
    "    last_year =max(years)\n",
    "    # Calculate the annual mean for the first year\n",
    "    ds1=ds_year[first_year]\n",
    "    ds_temp1=weighted_monthly_mean(ds1)\n",
    "    for i in range(first_year+1,last_year+1):\n",
    "        temp=ds_year[i]\n",
    "        ds_temp=weighted_monthly_mean(temp)\n",
    "        if i==first_year+1:\n",
    "            ds_temp1=xr.concat([ds_temp1,ds_temp],\"year\")\n",
    "        else:\n",
    "            ds_temp1=xr.concat([ds_temp1,ds_temp],dim=\"year\")\n",
    "     # Add a coordinate to the new dataset        \n",
    "    ds_temp1.coords[\"year\"] = np.arange(first_year,last_year+1,1)\n",
    "    return ds_temp1"
   ]
  }
 ],
 "metadata": {
  "kernelspec": {
   "display_name": "Python 3 August 2021 Environment",
   "language": "python",
   "name": "aug21"
  },
  "language_info": {
   "codemirror_mode": {
    "name": "ipython",
    "version": 3
   },
   "file_extension": ".py",
   "mimetype": "text/x-python",
   "name": "python",
   "nbconvert_exporter": "python",
   "pygments_lexer": "ipython3",
   "version": "3.8.10"
  }
 },
 "nbformat": 4,
 "nbformat_minor": 5
}
